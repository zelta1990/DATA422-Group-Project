{
 "cells": [
  {
   "cell_type": "markdown",
   "metadata": {},
   "source": [
    "# Data Wrangling Group Project"
   ]
  },
  {
   "cell_type": "code",
   "execution_count": 2,
   "metadata": {
    "vscode": {
     "languageId": "r"
    }
   },
   "outputs": [
    {
     "name": "stderr",
     "output_type": "stream",
     "text": [
      "-- \u001b[1mAttaching packages\u001b[22m --------------------------------------- tidyverse 1.3.2 --\n",
      "\u001b[32mv\u001b[39m \u001b[34mggplot2\u001b[39m 3.3.6      \u001b[32mv\u001b[39m \u001b[34mdplyr  \u001b[39m 1.0.10\n",
      "\u001b[32mv\u001b[39m \u001b[34mtibble \u001b[39m 3.1.8      \u001b[32mv\u001b[39m \u001b[34mstringr\u001b[39m 1.4.1 \n",
      "\u001b[32mv\u001b[39m \u001b[34mtidyr  \u001b[39m 1.2.0      \u001b[32mv\u001b[39m \u001b[34mforcats\u001b[39m 0.5.1 \n",
      "\u001b[32mv\u001b[39m \u001b[34mpurrr  \u001b[39m 0.3.4      \n",
      "-- \u001b[1mConflicts\u001b[22m ------------------------------------------ tidyverse_conflicts() --\n",
      "\u001b[31mx\u001b[39m \u001b[34mdplyr\u001b[39m::\u001b[32mfilter()\u001b[39m masks \u001b[34mstats\u001b[39m::filter()\n",
      "\u001b[31mx\u001b[39m \u001b[34mdplyr\u001b[39m::\u001b[32mlag()\u001b[39m    masks \u001b[34mstats\u001b[39m::lag()\n",
      "\u001b[1mRows: \u001b[22m\u001b[34m51903\u001b[39m \u001b[1mColumns: \u001b[22m\u001b[34m72\u001b[39m\n",
      "\u001b[36m--\u001b[39m \u001b[1mColumn specification\u001b[22m \u001b[36m--------------------------------------------------------\u001b[39m\n",
      "\u001b[1mDelimiter:\u001b[22m \",\"\n",
      "\u001b[31mchr\u001b[39m (20): crashDirectionDescription, crashFinancialYear, crashLocation1, cra...\n",
      "\u001b[32mdbl\u001b[39m (50): X, Y, OBJECTID, advisorySpeed, areaUnitID, bicycle, bridge, bus, c...\n",
      "\u001b[33mlgl\u001b[39m  (2): crashRoadSideRoad, intersection\n",
      "\n",
      "\u001b[36mi\u001b[39m Use `spec()` to retrieve the full column specification for this data.\n",
      "\u001b[36mi\u001b[39m Specify the column types or set `show_col_types = FALSE` to quiet this message.\n"
     ]
    },
    {
     "data": {
      "text/html": [
       "<table class=\"dataframe\">\n",
       "<caption>A tibble: 6 × 72</caption>\n",
       "<thead>\n",
       "\t<tr><th scope=col>X</th><th scope=col>Y</th><th scope=col>OBJECTID</th><th scope=col>advisorySpeed</th><th scope=col>areaUnitID</th><th scope=col>bicycle</th><th scope=col>bridge</th><th scope=col>bus</th><th scope=col>carStationWagon</th><th scope=col>cliffBank</th><th scope=col>⋯</th><th scope=col>train</th><th scope=col>tree</th><th scope=col>truck</th><th scope=col>unknownVehicleType</th><th scope=col>urban</th><th scope=col>vanOrUtility</th><th scope=col>vehicle</th><th scope=col>waterRiver</th><th scope=col>weatherA</th><th scope=col>weatherB</th></tr>\n",
       "\t<tr><th scope=col>&lt;dbl&gt;</th><th scope=col>&lt;dbl&gt;</th><th scope=col>&lt;dbl&gt;</th><th scope=col>&lt;dbl&gt;</th><th scope=col>&lt;dbl&gt;</th><th scope=col>&lt;dbl&gt;</th><th scope=col>&lt;dbl&gt;</th><th scope=col>&lt;dbl&gt;</th><th scope=col>&lt;dbl&gt;</th><th scope=col>&lt;dbl&gt;</th><th scope=col>⋯</th><th scope=col>&lt;dbl&gt;</th><th scope=col>&lt;dbl&gt;</th><th scope=col>&lt;dbl&gt;</th><th scope=col>&lt;dbl&gt;</th><th scope=col>&lt;chr&gt;</th><th scope=col>&lt;dbl&gt;</th><th scope=col>&lt;dbl&gt;</th><th scope=col>&lt;dbl&gt;</th><th scope=col>&lt;chr&gt;</th><th scope=col>&lt;chr&gt;</th></tr>\n",
       "</thead>\n",
       "<tbody>\n",
       "\t<tr><td>1569263</td><td>5177269</td><td> 2</td><td>NA</td><td>595000</td><td>0</td><td>NA</td><td>0</td><td>2</td><td>NA</td><td>⋯</td><td>NA</td><td>NA</td><td>0</td><td>0</td><td>Urban</td><td>0</td><td>NA</td><td>NA</td><td>Fine      </td><td>Null</td></tr>\n",
       "\t<tr><td>1554448</td><td>5181256</td><td> 6</td><td>NA</td><td>587821</td><td>0</td><td> 0</td><td>0</td><td>1</td><td> 0</td><td>⋯</td><td> 0</td><td> 0</td><td>0</td><td>0</td><td>Open </td><td>0</td><td> 0</td><td> 1</td><td>Light rain</td><td>Null</td></tr>\n",
       "\t<tr><td>1572260</td><td>5180996</td><td> 8</td><td>NA</td><td>593300</td><td>0</td><td>NA</td><td>0</td><td>2</td><td>NA</td><td>⋯</td><td>NA</td><td>NA</td><td>0</td><td>0</td><td>Urban</td><td>0</td><td>NA</td><td>NA</td><td>Fine      </td><td>Null</td></tr>\n",
       "\t<tr><td>1573557</td><td>5180808</td><td>16</td><td>NA</td><td>593600</td><td>0</td><td>NA</td><td>0</td><td>2</td><td>NA</td><td>⋯</td><td>NA</td><td>NA</td><td>0</td><td>0</td><td>Urban</td><td>0</td><td>NA</td><td>NA</td><td>Fine      </td><td>Null</td></tr>\n",
       "\t<tr><td>1573407</td><td>5180049</td><td>22</td><td>NA</td><td>593600</td><td>0</td><td>NA</td><td>0</td><td>1</td><td>NA</td><td>⋯</td><td>NA</td><td>NA</td><td>0</td><td>0</td><td>Urban</td><td>1</td><td>NA</td><td>NA</td><td>Heavy rain</td><td>Null</td></tr>\n",
       "\t<tr><td>1568675</td><td>5183354</td><td>27</td><td>NA</td><td>592100</td><td>0</td><td>NA</td><td>0</td><td>3</td><td>NA</td><td>⋯</td><td>NA</td><td>NA</td><td>0</td><td>0</td><td>Urban</td><td>0</td><td>NA</td><td>NA</td><td>Fine      </td><td>Null</td></tr>\n",
       "</tbody>\n",
       "</table>\n"
      ],
      "text/latex": [
       "A tibble: 6 × 72\n",
       "\\begin{tabular}{lllllllllllllllllllll}\n",
       " X & Y & OBJECTID & advisorySpeed & areaUnitID & bicycle & bridge & bus & carStationWagon & cliffBank & ⋯ & train & tree & truck & unknownVehicleType & urban & vanOrUtility & vehicle & waterRiver & weatherA & weatherB\\\\\n",
       " <dbl> & <dbl> & <dbl> & <dbl> & <dbl> & <dbl> & <dbl> & <dbl> & <dbl> & <dbl> & ⋯ & <dbl> & <dbl> & <dbl> & <dbl> & <chr> & <dbl> & <dbl> & <dbl> & <chr> & <chr>\\\\\n",
       "\\hline\n",
       "\t 1569263 & 5177269 &  2 & NA & 595000 & 0 & NA & 0 & 2 & NA & ⋯ & NA & NA & 0 & 0 & Urban & 0 & NA & NA & Fine       & Null\\\\\n",
       "\t 1554448 & 5181256 &  6 & NA & 587821 & 0 &  0 & 0 & 1 &  0 & ⋯ &  0 &  0 & 0 & 0 & Open  & 0 &  0 &  1 & Light rain & Null\\\\\n",
       "\t 1572260 & 5180996 &  8 & NA & 593300 & 0 & NA & 0 & 2 & NA & ⋯ & NA & NA & 0 & 0 & Urban & 0 & NA & NA & Fine       & Null\\\\\n",
       "\t 1573557 & 5180808 & 16 & NA & 593600 & 0 & NA & 0 & 2 & NA & ⋯ & NA & NA & 0 & 0 & Urban & 0 & NA & NA & Fine       & Null\\\\\n",
       "\t 1573407 & 5180049 & 22 & NA & 593600 & 0 & NA & 0 & 1 & NA & ⋯ & NA & NA & 0 & 0 & Urban & 1 & NA & NA & Heavy rain & Null\\\\\n",
       "\t 1568675 & 5183354 & 27 & NA & 592100 & 0 & NA & 0 & 3 & NA & ⋯ & NA & NA & 0 & 0 & Urban & 0 & NA & NA & Fine       & Null\\\\\n",
       "\\end{tabular}\n"
      ],
      "text/markdown": [
       "\n",
       "A tibble: 6 × 72\n",
       "\n",
       "| X &lt;dbl&gt; | Y &lt;dbl&gt; | OBJECTID &lt;dbl&gt; | advisorySpeed &lt;dbl&gt; | areaUnitID &lt;dbl&gt; | bicycle &lt;dbl&gt; | bridge &lt;dbl&gt; | bus &lt;dbl&gt; | carStationWagon &lt;dbl&gt; | cliffBank &lt;dbl&gt; | ⋯ ⋯ | train &lt;dbl&gt; | tree &lt;dbl&gt; | truck &lt;dbl&gt; | unknownVehicleType &lt;dbl&gt; | urban &lt;chr&gt; | vanOrUtility &lt;dbl&gt; | vehicle &lt;dbl&gt; | waterRiver &lt;dbl&gt; | weatherA &lt;chr&gt; | weatherB &lt;chr&gt; |\n",
       "|---|---|---|---|---|---|---|---|---|---|---|---|---|---|---|---|---|---|---|---|---|\n",
       "| 1569263 | 5177269 |  2 | NA | 595000 | 0 | NA | 0 | 2 | NA | ⋯ | NA | NA | 0 | 0 | Urban | 0 | NA | NA | Fine       | Null |\n",
       "| 1554448 | 5181256 |  6 | NA | 587821 | 0 |  0 | 0 | 1 |  0 | ⋯ |  0 |  0 | 0 | 0 | Open  | 0 |  0 |  1 | Light rain | Null |\n",
       "| 1572260 | 5180996 |  8 | NA | 593300 | 0 | NA | 0 | 2 | NA | ⋯ | NA | NA | 0 | 0 | Urban | 0 | NA | NA | Fine       | Null |\n",
       "| 1573557 | 5180808 | 16 | NA | 593600 | 0 | NA | 0 | 2 | NA | ⋯ | NA | NA | 0 | 0 | Urban | 0 | NA | NA | Fine       | Null |\n",
       "| 1573407 | 5180049 | 22 | NA | 593600 | 0 | NA | 0 | 1 | NA | ⋯ | NA | NA | 0 | 0 | Urban | 1 | NA | NA | Heavy rain | Null |\n",
       "| 1568675 | 5183354 | 27 | NA | 592100 | 0 | NA | 0 | 3 | NA | ⋯ | NA | NA | 0 | 0 | Urban | 0 | NA | NA | Fine       | Null |\n",
       "\n"
      ],
      "text/plain": [
       "  X       Y       OBJECTID advisorySpeed areaUnitID bicycle bridge bus\n",
       "1 1569263 5177269  2       NA            595000     0       NA     0  \n",
       "2 1554448 5181256  6       NA            587821     0        0     0  \n",
       "3 1572260 5180996  8       NA            593300     0       NA     0  \n",
       "4 1573557 5180808 16       NA            593600     0       NA     0  \n",
       "5 1573407 5180049 22       NA            593600     0       NA     0  \n",
       "6 1568675 5183354 27       NA            592100     0       NA     0  \n",
       "  carStationWagon cliffBank <U+22EF>        train tree truck unknownVehicleType urban\n",
       "1 2               NA        <U+22EF> NA    NA   0     0                  Urban\n",
       "2 1                0        <U+22EF>  0     0   0     0                  Open \n",
       "3 2               NA        <U+22EF> NA    NA   0     0                  Urban\n",
       "4 2               NA        <U+22EF> NA    NA   0     0                  Urban\n",
       "5 1               NA        <U+22EF> NA    NA   0     0                  Urban\n",
       "6 3               NA        <U+22EF> NA    NA   0     0                  Urban\n",
       "  vanOrUtility vehicle waterRiver weatherA   weatherB\n",
       "1 0            NA      NA         Fine       Null    \n",
       "2 0             0       1         Light rain Null    \n",
       "3 0            NA      NA         Fine       Null    \n",
       "4 0            NA      NA         Fine       Null    \n",
       "5 1            NA      NA         Heavy rain Null    \n",
       "6 0            NA      NA         Fine       Null    "
      ]
     },
     "metadata": {},
     "output_type": "display_data"
    },
    {
     "name": "stdout",
     "output_type": "stream",
     "text": [
      "Rows: 51,903\n",
      "Columns: 72\n",
      "$ X                         \u001b[3m\u001b[90m<dbl>\u001b[39m\u001b[23m 1569263, 1554448, 1572260, 1573557, 1573407,~\n",
      "$ Y                         \u001b[3m\u001b[90m<dbl>\u001b[39m\u001b[23m 5177269, 5181256, 5180996, 5180808, 5180049,~\n",
      "$ OBJECTID                  \u001b[3m\u001b[90m<dbl>\u001b[39m\u001b[23m 2, 6, 8, 16, 22, 27, 30, 36, 37, 38, 44, 46,~\n",
      "$ advisorySpeed             \u001b[3m\u001b[90m<dbl>\u001b[39m\u001b[23m NA, NA, NA, NA, NA, NA, NA, NA, NA, NA, NA, ~\n",
      "$ areaUnitID                \u001b[3m\u001b[90m<dbl>\u001b[39m\u001b[23m 595000, 587821, 593300, 593600, 593600, 5921~\n",
      "$ bicycle                   \u001b[3m\u001b[90m<dbl>\u001b[39m\u001b[23m 0, 0, 0, 0, 0, 0, 0, 0, 0, 0, 0, 0, 0, 0, 0,~\n",
      "$ bridge                    \u001b[3m\u001b[90m<dbl>\u001b[39m\u001b[23m NA, 0, NA, NA, NA, NA, NA, 0, NA, NA, NA, NA~\n",
      "$ bus                       \u001b[3m\u001b[90m<dbl>\u001b[39m\u001b[23m 0, 0, 0, 0, 0, 0, 0, 0, 0, 0, 0, 0, 0, 0, 0,~\n",
      "$ carStationWagon           \u001b[3m\u001b[90m<dbl>\u001b[39m\u001b[23m 2, 1, 2, 2, 1, 3, 2, 1, 2, 2, 2, 2, 1, 0, 1,~\n",
      "$ cliffBank                 \u001b[3m\u001b[90m<dbl>\u001b[39m\u001b[23m NA, 0, NA, NA, NA, NA, NA, 0, NA, NA, NA, NA~\n",
      "$ crashDirectionDescription \u001b[3m\u001b[90m<chr>\u001b[39m\u001b[23m \"East\", \"West\", \"North\", \"Null\", \"Null\", \"No~\n",
      "$ crashFinancialYear        \u001b[3m\u001b[90m<chr>\u001b[39m\u001b[23m \"1999/2000\", \"1999/2000\", \"2000/2001\", \"2000~\n",
      "$ crashLocation1            \u001b[3m\u001b[90m<chr>\u001b[39m\u001b[23m \"Z CPK BARRINGTON MALL\", \"SH 73\", \"STANMORE ~\n",
      "$ crashLocation2            \u001b[3m\u001b[90m<chr>\u001b[39m\u001b[23m \"BARRINGTON ST\", \"KIRK ROAD\", \"DRAPER ST\", \"~\n",
      "$ crashRoadSideRoad         \u001b[3m\u001b[90m<lgl>\u001b[39m\u001b[23m NA, NA, NA, NA, NA, NA, NA, NA, NA, NA, NA, ~\n",
      "$ crashSeverity             \u001b[3m\u001b[90m<chr>\u001b[39m\u001b[23m \"Non-Injury Crash\", \"Non-Injury Crash\", \"Non~\n",
      "$ crashSHDescription        \u001b[3m\u001b[90m<chr>\u001b[39m\u001b[23m \"No\", \"Yes\", \"No\", \"No\", \"No\", \"No\", \"No\", \"~\n",
      "$ crashYear                 \u001b[3m\u001b[90m<dbl>\u001b[39m\u001b[23m 2000, 2000, 2000, 2000, 2000, 2000, 2000, 20~\n",
      "$ debris                    \u001b[3m\u001b[90m<dbl>\u001b[39m\u001b[23m NA, 0, NA, NA, NA, NA, NA, 0, NA, NA, NA, NA~\n",
      "$ directionRoleDescription  \u001b[3m\u001b[90m<chr>\u001b[39m\u001b[23m \"North\", \"East\", \"South\", \"West\", \"East\", \"N~\n",
      "$ ditch                     \u001b[3m\u001b[90m<dbl>\u001b[39m\u001b[23m NA, 0, NA, NA, NA, NA, NA, 0, NA, NA, NA, NA~\n",
      "$ fatalCount                \u001b[3m\u001b[90m<dbl>\u001b[39m\u001b[23m 0, 0, 0, 0, 0, 0, 0, 0, 0, 0, 0, 0, 0, 0, 0,~\n",
      "$ fence                     \u001b[3m\u001b[90m<dbl>\u001b[39m\u001b[23m NA, 0, NA, NA, NA, NA, NA, 0, NA, NA, NA, NA~\n",
      "$ flatHill                  \u001b[3m\u001b[90m<chr>\u001b[39m\u001b[23m \"Flat\", \"Flat\", \"Flat\", \"Flat\", \"Flat\", \"Fla~\n",
      "$ guardRail                 \u001b[3m\u001b[90m<dbl>\u001b[39m\u001b[23m NA, 0, NA, NA, NA, NA, NA, 0, NA, NA, NA, NA~\n",
      "$ holiday                   \u001b[3m\u001b[90m<chr>\u001b[39m\u001b[23m NA, NA, NA, NA, NA, NA, NA, NA, \"Labour Week~\n",
      "$ houseOrBuilding           \u001b[3m\u001b[90m<dbl>\u001b[39m\u001b[23m NA, 0, NA, NA, NA, NA, NA, 0, NA, NA, NA, NA~\n",
      "$ intersection              \u001b[3m\u001b[90m<lgl>\u001b[39m\u001b[23m NA, NA, NA, NA, NA, NA, NA, NA, NA, NA, NA, ~\n",
      "$ kerb                      \u001b[3m\u001b[90m<dbl>\u001b[39m\u001b[23m NA, 0, NA, NA, NA, NA, NA, 0, NA, NA, NA, NA~\n",
      "$ light                     \u001b[3m\u001b[90m<chr>\u001b[39m\u001b[23m \"Bright sun\", \"Dark\", \"Overcast\", \"Bright su~\n",
      "$ meshblockId               \u001b[3m\u001b[90m<dbl>\u001b[39m\u001b[23m 2643200, 2494500, 2692703, 2611800, 2612502,~\n",
      "$ minorInjuryCount          \u001b[3m\u001b[90m<dbl>\u001b[39m\u001b[23m 0, 0, 0, 0, 0, 0, 0, 0, 0, 0, 0, 0, 0, 0, 0,~\n",
      "$ moped                     \u001b[3m\u001b[90m<dbl>\u001b[39m\u001b[23m 0, 0, 0, 0, 0, 0, 0, 0, 0, 0, 0, 0, 0, 0, 0,~\n",
      "$ motorcycle                \u001b[3m\u001b[90m<dbl>\u001b[39m\u001b[23m 0, 0, 0, 0, 0, 0, 0, 0, 0, 0, 0, 0, 0, 0, 0,~\n",
      "$ NumberOfLanes             \u001b[3m\u001b[90m<dbl>\u001b[39m\u001b[23m 0, 2, 2, 2, 3, 2, 0, 2, 2, 4, 2, 2, 2, 2, 2,~\n",
      "$ objectThrownOrDropped     \u001b[3m\u001b[90m<dbl>\u001b[39m\u001b[23m NA, 0, NA, NA, NA, NA, NA, 0, NA, NA, NA, NA~\n",
      "$ otherObject               \u001b[3m\u001b[90m<dbl>\u001b[39m\u001b[23m NA, 0, NA, NA, NA, NA, NA, 0, NA, NA, NA, NA~\n",
      "$ otherVehicleType          \u001b[3m\u001b[90m<dbl>\u001b[39m\u001b[23m 0, 0, 0, 0, 0, 0, 0, 0, 0, 0, 0, 0, 0, 0, 0,~\n",
      "$ overBank                  \u001b[3m\u001b[90m<dbl>\u001b[39m\u001b[23m NA, 0, NA, NA, NA, NA, NA, 0, NA, NA, NA, NA~\n",
      "$ parkedVehicle             \u001b[3m\u001b[90m<dbl>\u001b[39m\u001b[23m NA, 0, NA, NA, NA, NA, NA, 0, NA, NA, NA, NA~\n",
      "$ pedestrian                \u001b[3m\u001b[90m<dbl>\u001b[39m\u001b[23m NA, NA, NA, NA, NA, NA, NA, NA, NA, NA, NA, ~\n",
      "$ phoneBoxEtc               \u001b[3m\u001b[90m<dbl>\u001b[39m\u001b[23m NA, 0, NA, NA, NA, NA, NA, 0, NA, NA, NA, NA~\n",
      "$ postOrPole                \u001b[3m\u001b[90m<dbl>\u001b[39m\u001b[23m NA, 0, NA, NA, NA, NA, NA, 1, NA, NA, NA, NA~\n",
      "$ region                    \u001b[3m\u001b[90m<chr>\u001b[39m\u001b[23m \"Canterbury Region\", \"Canterbury Region\", \"C~\n",
      "$ roadCharacter             \u001b[3m\u001b[90m<chr>\u001b[39m\u001b[23m \"Nil\", \"Nil\", \"Nil\", \"Nil\", \"Nil\", \"Nil\", \"N~\n",
      "$ roadLane                  \u001b[3m\u001b[90m<chr>\u001b[39m\u001b[23m \"Off road\", \"2-way\", \"2-way\", \"2-way\", \"2-wa~\n",
      "$ roadSurface               \u001b[3m\u001b[90m<chr>\u001b[39m\u001b[23m \"Sealed\", \"Unsealed\", \"Sealed\", \"Sealed\", \"S~\n",
      "$ roadworks                 \u001b[3m\u001b[90m<dbl>\u001b[39m\u001b[23m NA, 0, NA, NA, NA, NA, NA, 0, NA, NA, NA, NA~\n",
      "$ schoolBus                 \u001b[3m\u001b[90m<dbl>\u001b[39m\u001b[23m 0, 0, 0, 0, 0, 0, 0, 0, 0, 0, 0, 0, 0, 0, 0,~\n",
      "$ seriousInjuryCount        \u001b[3m\u001b[90m<dbl>\u001b[39m\u001b[23m 0, 0, 0, 0, 0, 0, 0, 0, 0, 0, 0, 0, 0, 0, 0,~\n",
      "$ slipOrFlood               \u001b[3m\u001b[90m<dbl>\u001b[39m\u001b[23m NA, 0, NA, NA, NA, NA, NA, 0, NA, NA, NA, NA~\n",
      "$ speedLimit                \u001b[3m\u001b[90m<dbl>\u001b[39m\u001b[23m 30, 100, 50, 50, 50, 50, 30, 50, 50, 60, 50,~\n",
      "$ strayAnimal               \u001b[3m\u001b[90m<dbl>\u001b[39m\u001b[23m NA, 0, NA, NA, NA, NA, NA, 0, NA, NA, NA, NA~\n",
      "$ streetLight               \u001b[3m\u001b[90m<chr>\u001b[39m\u001b[23m \"Null\", \"None\", \"Null\", \"Null\", \"Null\", \"Nul~\n",
      "$ suv                       \u001b[3m\u001b[90m<dbl>\u001b[39m\u001b[23m 0, 0, 0, 0, 0, 0, 0, 0, 0, 0, 0, 0, 0, 0, 0,~\n",
      "$ taxi                      \u001b[3m\u001b[90m<dbl>\u001b[39m\u001b[23m 0, 0, 0, 0, 0, 0, 0, 0, 0, 0, 0, 0, 0, 0, 0,~\n",
      "$ temporarySpeedLimit       \u001b[3m\u001b[90m<dbl>\u001b[39m\u001b[23m NA, NA, NA, NA, NA, NA, NA, NA, NA, NA, NA, ~\n",
      "$ tlaId                     \u001b[3m\u001b[90m<dbl>\u001b[39m\u001b[23m 60, 60, 60, 60, 60, 60, 60, 60, 60, 60, 60, ~\n",
      "$ tlaName                   \u001b[3m\u001b[90m<chr>\u001b[39m\u001b[23m \"Christchurch City\", \"Christchurch City\", \"C~\n",
      "$ trafficControl            \u001b[3m\u001b[90m<chr>\u001b[39m\u001b[23m \"Unknown\", \"Unknown\", \"Nil\", \"Traffic Signal~\n",
      "$ trafficIsland             \u001b[3m\u001b[90m<dbl>\u001b[39m\u001b[23m NA, 0, NA, NA, NA, NA, NA, 0, NA, NA, NA, NA~\n",
      "$ trafficSign               \u001b[3m\u001b[90m<dbl>\u001b[39m\u001b[23m NA, 0, NA, NA, NA, NA, NA, 0, NA, NA, NA, NA~\n",
      "$ train                     \u001b[3m\u001b[90m<dbl>\u001b[39m\u001b[23m NA, 0, NA, NA, NA, NA, NA, 0, NA, NA, NA, NA~\n",
      "$ tree                      \u001b[3m\u001b[90m<dbl>\u001b[39m\u001b[23m NA, 0, NA, NA, NA, NA, NA, 0, NA, NA, NA, NA~\n",
      "$ truck                     \u001b[3m\u001b[90m<dbl>\u001b[39m\u001b[23m 0, 0, 0, 0, 0, 0, 0, 0, 0, 0, 0, 0, 0, 0, 0,~\n",
      "$ unknownVehicleType        \u001b[3m\u001b[90m<dbl>\u001b[39m\u001b[23m 0, 0, 0, 0, 0, 0, 0, 0, 0, 0, 0, 0, 0, 0, 0,~\n",
      "$ urban                     \u001b[3m\u001b[90m<chr>\u001b[39m\u001b[23m \"Urban\", \"Open\", \"Urban\", \"Urban\", \"Urban\", ~\n",
      "$ vanOrUtility              \u001b[3m\u001b[90m<dbl>\u001b[39m\u001b[23m 0, 0, 0, 0, 1, 0, 0, 0, 0, 0, 0, 0, 0, 1, 0,~\n",
      "$ vehicle                   \u001b[3m\u001b[90m<dbl>\u001b[39m\u001b[23m NA, 0, NA, NA, NA, NA, NA, 0, NA, NA, NA, NA~\n",
      "$ waterRiver                \u001b[3m\u001b[90m<dbl>\u001b[39m\u001b[23m NA, 1, NA, NA, NA, NA, NA, 0, NA, NA, NA, NA~\n",
      "$ weatherA                  \u001b[3m\u001b[90m<chr>\u001b[39m\u001b[23m \"Fine\", \"Light rain\", \"Fine\", \"Fine\", \"Heavy~\n",
      "$ weatherB                  \u001b[3m\u001b[90m<chr>\u001b[39m\u001b[23m \"Null\", \"Null\", \"Null\", \"Null\", \"Null\", \"Nul~\n"
     ]
    }
   ],
   "source": [
    "#install.packages(\"tidyverse\")\n",
    "#install.packages(\"skimr\")\n",
    "#install.packages(\"readr\")\n",
    "#install.packages(\"visdat\")\n",
    "library(skimr)\n",
    "library(readr)\n",
    "library(visdat)\n",
    "library(tidyverse)\n",
    "crash_df <-read_csv(\"https://raw.githubusercontent.com/zelta1990/crash_data_nz/main/Crash_data_chch.csv\")\n",
    "#crash_df <- read_csv(\"https://raw.githubusercontent.com/zelta1990/STAT422-Group-Project/main/Crash_data_chch.csv\") #Load Crash_data_chch.csv as a dataframe\n",
    "crash_df %>% head() #check initial dataset\n",
    "crash_df %>% glimpse() #check column types\n",
    "crash_df <- crash_df %>% filter(crashYear > 2011)  #only return records after 2012\n",
    "#crash_df %>% skim() #quick data summary\n",
    "#crash_df %>% vis_miss(large_data_size = 9e+07)#Visualise missing values"
   ]
  },
  {
   "cell_type": "code",
   "execution_count": 3,
   "metadata": {
    "vscode": {
     "languageId": "r"
    }
   },
   "outputs": [
    {
     "data": {
      "text/html": [
       "<table class=\"dataframe\">\n",
       "<caption>A tibble: 6 × 4</caption>\n",
       "<thead>\n",
       "\t<tr><th scope=col>crashLocation1</th><th scope=col>crashLocation2</th><th scope=col>crashYear</th><th scope=col>n</th></tr>\n",
       "\t<tr><th scope=col>&lt;chr&gt;</th><th scope=col>&lt;chr&gt;</th><th scope=col>&lt;dbl&gt;</th><th scope=col>&lt;int&gt;</th></tr>\n",
       "</thead>\n",
       "<tbody>\n",
       "\t<tr><td>SH 74        </td><td>RADCLIFFE ROAD    </td><td>2012</td><td>3</td></tr>\n",
       "\t<tr><td>MERRIN ST    </td><td>WITHELLS ROAD     </td><td>2012</td><td>2</td></tr>\n",
       "\t<tr><td>SH 75        </td><td>KINLOCH ROAD S    </td><td>2012</td><td>2</td></tr>\n",
       "\t<tr><td>SH 76        </td><td>COLOMBO ST        </td><td>2012</td><td>2</td></tr>\n",
       "\t<tr><td>BARBADOES ST </td><td>MOORHOUSE AVENUE  </td><td>2012</td><td>1</td></tr>\n",
       "\t<tr><td>BARRINGTON ST</td><td>BARRINGTON OFF WBD</td><td>2012</td><td>1</td></tr>\n",
       "</tbody>\n",
       "</table>\n"
      ],
      "text/latex": [
       "A tibble: 6 × 4\n",
       "\\begin{tabular}{llll}\n",
       " crashLocation1 & crashLocation2 & crashYear & n\\\\\n",
       " <chr> & <chr> & <dbl> & <int>\\\\\n",
       "\\hline\n",
       "\t SH 74         & RADCLIFFE ROAD     & 2012 & 3\\\\\n",
       "\t MERRIN ST     & WITHELLS ROAD      & 2012 & 2\\\\\n",
       "\t SH 75         & KINLOCH ROAD S     & 2012 & 2\\\\\n",
       "\t SH 76         & COLOMBO ST         & 2012 & 2\\\\\n",
       "\t BARBADOES ST  & MOORHOUSE AVENUE   & 2012 & 1\\\\\n",
       "\t BARRINGTON ST & BARRINGTON OFF WBD & 2012 & 1\\\\\n",
       "\\end{tabular}\n"
      ],
      "text/markdown": [
       "\n",
       "A tibble: 6 × 4\n",
       "\n",
       "| crashLocation1 &lt;chr&gt; | crashLocation2 &lt;chr&gt; | crashYear &lt;dbl&gt; | n &lt;int&gt; |\n",
       "|---|---|---|---|\n",
       "| SH 74         | RADCLIFFE ROAD     | 2012 | 3 |\n",
       "| MERRIN ST     | WITHELLS ROAD      | 2012 | 2 |\n",
       "| SH 75         | KINLOCH ROAD S     | 2012 | 2 |\n",
       "| SH 76         | COLOMBO ST         | 2012 | 2 |\n",
       "| BARBADOES ST  | MOORHOUSE AVENUE   | 2012 | 1 |\n",
       "| BARRINGTON ST | BARRINGTON OFF WBD | 2012 | 1 |\n",
       "\n"
      ],
      "text/plain": [
       "  crashLocation1 crashLocation2     crashYear n\n",
       "1 SH 74          RADCLIFFE ROAD     2012      3\n",
       "2 MERRIN ST      WITHELLS ROAD      2012      2\n",
       "3 SH 75          KINLOCH ROAD S     2012      2\n",
       "4 SH 76          COLOMBO ST         2012      2\n",
       "5 BARBADOES ST   MOORHOUSE AVENUE   2012      1\n",
       "6 BARRINGTON ST  BARRINGTON OFF WBD 2012      1"
      ]
     },
     "metadata": {},
     "output_type": "display_data"
    }
   ],
   "source": [
    "#Calculate the count of accidents at one location for each year\n",
    "count_df <- crash_df %>% \n",
    "                filter(crashSeverity == \"Serious Crash\" | crashSeverity == \"Fatal Crash\" ) %>%\n",
    "                count(crashLocation1, crashLocation2, crashYear,sort=TRUE) \n",
    "#Rank each location by accident count for each year\n",
    "all_year = list()\n",
    "for(i in unique(crash_df$crashYear))\n",
    "{\n",
    "    year_df <- count_df %>% \n",
    "                    filter(crashYear == i ) %>% \n",
    "                    arrange(desc(n)) \n",
    "    all_year[[i]] <- year_df\n",
    "}\n",
    "all_year_df <- bind_rows(all_year)\n",
    "all_year_df %>% head()\n",
    "#Using 2021 as an example\n",
    "#all_year_df %>% filter(crashYear == '2021') \n",
    "\n"
   ]
  },
  {
   "cell_type": "code",
   "execution_count": 4,
   "metadata": {
    "vscode": {
     "languageId": "r"
    }
   },
   "outputs": [
    {
     "data": {
      "text/html": [
       "<table class=\"dataframe\">\n",
       "<caption>A data.frame: 1 × 2</caption>\n",
       "<thead>\n",
       "\t<tr><th scope=col>lat</th><th scope=col>lon</th></tr>\n",
       "\t<tr><th scope=col>&lt;dbl&gt;</th><th scope=col>&lt;dbl&gt;</th></tr>\n",
       "</thead>\n",
       "<tbody>\n",
       "\t<tr><td>-43.54283</td><td>172.5317</td></tr>\n",
       "</tbody>\n",
       "</table>\n"
      ],
      "text/latex": [
       "A data.frame: 1 × 2\n",
       "\\begin{tabular}{ll}\n",
       " lat & lon\\\\\n",
       " <dbl> & <dbl>\\\\\n",
       "\\hline\n",
       "\t -43.54283 & 172.5317\\\\\n",
       "\\end{tabular}\n"
      ],
      "text/markdown": [
       "\n",
       "A data.frame: 1 × 2\n",
       "\n",
       "| lat &lt;dbl&gt; | lon &lt;dbl&gt; |\n",
       "|---|---|\n",
       "| -43.54283 | 172.5317 |\n",
       "\n"
      ],
      "text/plain": [
       "  lat       lon     \n",
       "1 -43.54283 172.5317"
      ]
     },
     "metadata": {},
     "output_type": "display_data"
    }
   ],
   "source": [
    "#    Title: NZTM-WGS84(NZGD2000) converter\n",
    "#    Author: mkennedy\n",
    "#    Date: Feb 16, 2012 at 2:32\n",
    "#    Availability: https://gis.stackexchange.com/questions/20389/converting-nzmg-or-nztm-to-latitude-longitude-for-use-with-r-map-library/20401#20401\n",
    "\n",
    "#install.packages(\"proj4\")\n",
    "library(proj4)\n",
    "get_lat_lon <- function(x,y)\n",
    "{\n",
    "    proj4string <- \"+proj=tmerc +lat_0=0 +lon_0=173 +k=0.9996 +x_0=1600000 +y_0=10000000 +ellps=GRS80 +towgs84=0,0,0,0,0,0,0 +units=m +no_defs\"\n",
    "    #proj4string <- \"+proj=tmerc +lat_0=0.0 +lon_0=173.0 +k=0.9996 +x_0=1600000.0 +y_0=10000000.0 +datum=WGS84 +units=m\"\n",
    "    # Source data\n",
    "    xy <- data.frame(x, y)\n",
    "\n",
    "    # Transformed data\n",
    "    pj <- project(xy, proj4string, inverse=TRUE)\n",
    "    latlon <- data.frame(lat=pj$y, lon=pj$x)\n",
    "    return(latlon)\n",
    "}\n",
    "# an example\n",
    "lat_lon <- get_lat_lon(1562170,5178795)\n",
    "lat_lon\n",
    "\n",
    "\n",
    "\n"
   ]
  },
  {
   "cell_type": "code",
   "execution_count": 5,
   "metadata": {
    "vscode": {
     "languageId": "r"
    }
   },
   "outputs": [
    {
     "data": {
      "text/html": [
       "<table class=\"dataframe\">\n",
       "<caption>A tibble: 6 × 3</caption>\n",
       "<thead>\n",
       "\t<tr><th scope=col>crashLocation1</th><th scope=col>crashLocation2</th><th scope=col>n</th></tr>\n",
       "\t<tr><th scope=col>&lt;chr&gt;</th><th scope=col>&lt;chr&gt;</th><th scope=col>&lt;int&gt;</th></tr>\n",
       "</thead>\n",
       "<tbody>\n",
       "\t<tr><td>GEBBIES PASS ROAD</td><td>SUMMIT ROAD   </td><td>9</td></tr>\n",
       "\t<tr><td>DYERS PASS ROAD  </td><td>SUMMIT ROAD   </td><td>7</td></tr>\n",
       "\t<tr><td>SH 74            </td><td>RADCLIFFE ROAD</td><td>7</td></tr>\n",
       "\t<tr><td>DYERS PASS ROAD  </td><td>CENTAURUS ROAD</td><td>6</td></tr>\n",
       "\t<tr><td>HILLS ROAD       </td><td>SHIRLEY ROAD  </td><td>6</td></tr>\n",
       "\t<tr><td>SH 74            </td><td>MARSHLAND ROAD</td><td>6</td></tr>\n",
       "</tbody>\n",
       "</table>\n"
      ],
      "text/latex": [
       "A tibble: 6 × 3\n",
       "\\begin{tabular}{lll}\n",
       " crashLocation1 & crashLocation2 & n\\\\\n",
       " <chr> & <chr> & <int>\\\\\n",
       "\\hline\n",
       "\t GEBBIES PASS ROAD & SUMMIT ROAD    & 9\\\\\n",
       "\t DYERS PASS ROAD   & SUMMIT ROAD    & 7\\\\\n",
       "\t SH 74             & RADCLIFFE ROAD & 7\\\\\n",
       "\t DYERS PASS ROAD   & CENTAURUS ROAD & 6\\\\\n",
       "\t HILLS ROAD        & SHIRLEY ROAD   & 6\\\\\n",
       "\t SH 74             & MARSHLAND ROAD & 6\\\\\n",
       "\\end{tabular}\n"
      ],
      "text/markdown": [
       "\n",
       "A tibble: 6 × 3\n",
       "\n",
       "| crashLocation1 &lt;chr&gt; | crashLocation2 &lt;chr&gt; | n &lt;int&gt; |\n",
       "|---|---|---|\n",
       "| GEBBIES PASS ROAD | SUMMIT ROAD    | 9 |\n",
       "| DYERS PASS ROAD   | SUMMIT ROAD    | 7 |\n",
       "| SH 74             | RADCLIFFE ROAD | 7 |\n",
       "| DYERS PASS ROAD   | CENTAURUS ROAD | 6 |\n",
       "| HILLS ROAD        | SHIRLEY ROAD   | 6 |\n",
       "| SH 74             | MARSHLAND ROAD | 6 |\n",
       "\n"
      ],
      "text/plain": [
       "  crashLocation1    crashLocation2 n\n",
       "1 GEBBIES PASS ROAD SUMMIT ROAD    9\n",
       "2 DYERS PASS ROAD   SUMMIT ROAD    7\n",
       "3 SH 74             RADCLIFFE ROAD 7\n",
       "4 DYERS PASS ROAD   CENTAURUS ROAD 6\n",
       "5 HILLS ROAD        SHIRLEY ROAD   6\n",
       "6 SH 74             MARSHLAND ROAD 6"
      ]
     },
     "metadata": {},
     "output_type": "display_data"
    }
   ],
   "source": [
    "#Calculate the accumulative count of serious or fatal accidents at one location over ten years and return locations with count > 1\n",
    "count_all_year_df <- crash_df %>% \n",
    "                filter(crashSeverity == \"Serious Crash\" | crashSeverity == \"Fatal Crash\" ) %>%\n",
    "                count(crashLocation1, crashLocation2,sort=TRUE) \n",
    "count_all_year_df <- count_all_year_df %>%\n",
    "                        filter(n > 1) #only return locations with accident count > 1\n",
    "count_all_year_df %>% head()\n"
   ]
  },
  {
   "cell_type": "code",
   "execution_count": 6,
   "metadata": {
    "vscode": {
     "languageId": "r"
    }
   },
   "outputs": [
    {
     "data": {
      "text/html": [
       "<table class=\"dataframe\">\n",
       "<caption>A tibble: 6 × 74</caption>\n",
       "<thead>\n",
       "\t<tr><th scope=col>X</th><th scope=col>Y</th><th scope=col>OBJECTID</th><th scope=col>advisorySpeed</th><th scope=col>areaUnitID</th><th scope=col>bicycle</th><th scope=col>bridge</th><th scope=col>bus</th><th scope=col>carStationWagon</th><th scope=col>cliffBank</th><th scope=col>⋯</th><th scope=col>truck</th><th scope=col>unknownVehicleType</th><th scope=col>urban</th><th scope=col>vanOrUtility</th><th scope=col>vehicle</th><th scope=col>waterRiver</th><th scope=col>weatherA</th><th scope=col>weatherB</th><th scope=col>lat</th><th scope=col>lon</th></tr>\n",
       "\t<tr><th scope=col>&lt;dbl&gt;</th><th scope=col>&lt;dbl&gt;</th><th scope=col>&lt;dbl&gt;</th><th scope=col>&lt;dbl&gt;</th><th scope=col>&lt;dbl&gt;</th><th scope=col>&lt;dbl&gt;</th><th scope=col>&lt;dbl&gt;</th><th scope=col>&lt;dbl&gt;</th><th scope=col>&lt;dbl&gt;</th><th scope=col>&lt;dbl&gt;</th><th scope=col>⋯</th><th scope=col>&lt;dbl&gt;</th><th scope=col>&lt;dbl&gt;</th><th scope=col>&lt;chr&gt;</th><th scope=col>&lt;dbl&gt;</th><th scope=col>&lt;dbl&gt;</th><th scope=col>&lt;dbl&gt;</th><th scope=col>&lt;chr&gt;</th><th scope=col>&lt;chr&gt;</th><th scope=col>&lt;dbl&gt;</th><th scope=col>&lt;dbl&gt;</th></tr>\n",
       "</thead>\n",
       "<tbody>\n",
       "\t<tr><td>1572933</td><td>5184220</td><td>129062</td><td>NA</td><td>592702</td><td>0</td><td> 0</td><td>0</td><td>1</td><td> 0</td><td>⋯</td><td>0</td><td>0</td><td>Urban</td><td>0</td><td> 0</td><td> 0</td><td>Fine</td><td>Null</td><td>-43.49446</td><td>172.6652</td></tr>\n",
       "\t<tr><td>1570500</td><td>5178327</td><td>129113</td><td>NA</td><td>594600</td><td>0</td><td>NA</td><td>0</td><td>2</td><td>NA</td><td>⋯</td><td>0</td><td>0</td><td>Urban</td><td>1</td><td>NA</td><td>NA</td><td>Fine</td><td>Null</td><td>-43.54742</td><td>172.6348</td></tr>\n",
       "\t<tr><td>1574466</td><td>5184474</td><td>129153</td><td>NA</td><td>590505</td><td>0</td><td>NA</td><td>0</td><td>1</td><td>NA</td><td>⋯</td><td>0</td><td>0</td><td>Urban</td><td>0</td><td>NA</td><td>NA</td><td>Fine</td><td>Null</td><td>-43.49222</td><td>172.6842</td></tr>\n",
       "\t<tr><td>1563005</td><td>5181023</td><td>129372</td><td>NA</td><td>587812</td><td>0</td><td>NA</td><td>0</td><td>1</td><td>NA</td><td>⋯</td><td>0</td><td>0</td><td>Urban</td><td>0</td><td>NA</td><td>NA</td><td>Fine</td><td>Null</td><td>-43.52282</td><td>172.5422</td></tr>\n",
       "\t<tr><td>1568560</td><td>5178680</td><td>130297</td><td>NA</td><td>594700</td><td>1</td><td>NA</td><td>0</td><td>1</td><td>NA</td><td>⋯</td><td>0</td><td>0</td><td>Urban</td><td>0</td><td>NA</td><td>NA</td><td>Fine</td><td>Null</td><td>-43.54417</td><td>172.6108</td></tr>\n",
       "\t<tr><td>1569953</td><td>5174972</td><td>130609</td><td>NA</td><td>591101</td><td>1</td><td>NA</td><td>0</td><td>1</td><td>NA</td><td>⋯</td><td>0</td><td>0</td><td>Urban</td><td>0</td><td>NA</td><td>NA</td><td>Fine</td><td>Null</td><td>-43.57761</td><td>172.6279</td></tr>\n",
       "</tbody>\n",
       "</table>\n"
      ],
      "text/latex": [
       "A tibble: 6 × 74\n",
       "\\begin{tabular}{lllllllllllllllllllll}\n",
       " X & Y & OBJECTID & advisorySpeed & areaUnitID & bicycle & bridge & bus & carStationWagon & cliffBank & ⋯ & truck & unknownVehicleType & urban & vanOrUtility & vehicle & waterRiver & weatherA & weatherB & lat & lon\\\\\n",
       " <dbl> & <dbl> & <dbl> & <dbl> & <dbl> & <dbl> & <dbl> & <dbl> & <dbl> & <dbl> & ⋯ & <dbl> & <dbl> & <chr> & <dbl> & <dbl> & <dbl> & <chr> & <chr> & <dbl> & <dbl>\\\\\n",
       "\\hline\n",
       "\t 1572933 & 5184220 & 129062 & NA & 592702 & 0 &  0 & 0 & 1 &  0 & ⋯ & 0 & 0 & Urban & 0 &  0 &  0 & Fine & Null & -43.49446 & 172.6652\\\\\n",
       "\t 1570500 & 5178327 & 129113 & NA & 594600 & 0 & NA & 0 & 2 & NA & ⋯ & 0 & 0 & Urban & 1 & NA & NA & Fine & Null & -43.54742 & 172.6348\\\\\n",
       "\t 1574466 & 5184474 & 129153 & NA & 590505 & 0 & NA & 0 & 1 & NA & ⋯ & 0 & 0 & Urban & 0 & NA & NA & Fine & Null & -43.49222 & 172.6842\\\\\n",
       "\t 1563005 & 5181023 & 129372 & NA & 587812 & 0 & NA & 0 & 1 & NA & ⋯ & 0 & 0 & Urban & 0 & NA & NA & Fine & Null & -43.52282 & 172.5422\\\\\n",
       "\t 1568560 & 5178680 & 130297 & NA & 594700 & 1 & NA & 0 & 1 & NA & ⋯ & 0 & 0 & Urban & 0 & NA & NA & Fine & Null & -43.54417 & 172.6108\\\\\n",
       "\t 1569953 & 5174972 & 130609 & NA & 591101 & 1 & NA & 0 & 1 & NA & ⋯ & 0 & 0 & Urban & 0 & NA & NA & Fine & Null & -43.57761 & 172.6279\\\\\n",
       "\\end{tabular}\n"
      ],
      "text/markdown": [
       "\n",
       "A tibble: 6 × 74\n",
       "\n",
       "| X &lt;dbl&gt; | Y &lt;dbl&gt; | OBJECTID &lt;dbl&gt; | advisorySpeed &lt;dbl&gt; | areaUnitID &lt;dbl&gt; | bicycle &lt;dbl&gt; | bridge &lt;dbl&gt; | bus &lt;dbl&gt; | carStationWagon &lt;dbl&gt; | cliffBank &lt;dbl&gt; | ⋯ ⋯ | truck &lt;dbl&gt; | unknownVehicleType &lt;dbl&gt; | urban &lt;chr&gt; | vanOrUtility &lt;dbl&gt; | vehicle &lt;dbl&gt; | waterRiver &lt;dbl&gt; | weatherA &lt;chr&gt; | weatherB &lt;chr&gt; | lat &lt;dbl&gt; | lon &lt;dbl&gt; |\n",
       "|---|---|---|---|---|---|---|---|---|---|---|---|---|---|---|---|---|---|---|---|---|\n",
       "| 1572933 | 5184220 | 129062 | NA | 592702 | 0 |  0 | 0 | 1 |  0 | ⋯ | 0 | 0 | Urban | 0 |  0 |  0 | Fine | Null | -43.49446 | 172.6652 |\n",
       "| 1570500 | 5178327 | 129113 | NA | 594600 | 0 | NA | 0 | 2 | NA | ⋯ | 0 | 0 | Urban | 1 | NA | NA | Fine | Null | -43.54742 | 172.6348 |\n",
       "| 1574466 | 5184474 | 129153 | NA | 590505 | 0 | NA | 0 | 1 | NA | ⋯ | 0 | 0 | Urban | 0 | NA | NA | Fine | Null | -43.49222 | 172.6842 |\n",
       "| 1563005 | 5181023 | 129372 | NA | 587812 | 0 | NA | 0 | 1 | NA | ⋯ | 0 | 0 | Urban | 0 | NA | NA | Fine | Null | -43.52282 | 172.5422 |\n",
       "| 1568560 | 5178680 | 130297 | NA | 594700 | 1 | NA | 0 | 1 | NA | ⋯ | 0 | 0 | Urban | 0 | NA | NA | Fine | Null | -43.54417 | 172.6108 |\n",
       "| 1569953 | 5174972 | 130609 | NA | 591101 | 1 | NA | 0 | 1 | NA | ⋯ | 0 | 0 | Urban | 0 | NA | NA | Fine | Null | -43.57761 | 172.6279 |\n",
       "\n"
      ],
      "text/plain": [
       "  X       Y       OBJECTID advisorySpeed areaUnitID bicycle bridge bus\n",
       "1 1572933 5184220 129062   NA            592702     0        0     0  \n",
       "2 1570500 5178327 129113   NA            594600     0       NA     0  \n",
       "3 1574466 5184474 129153   NA            590505     0       NA     0  \n",
       "4 1563005 5181023 129372   NA            587812     0       NA     0  \n",
       "5 1568560 5178680 130297   NA            594700     1       NA     0  \n",
       "6 1569953 5174972 130609   NA            591101     1       NA     0  \n",
       "  carStationWagon cliffBank <U+22EF>        truck unknownVehicleType urban\n",
       "1 1                0        <U+22EF> 0     0                  Urban\n",
       "2 2               NA        <U+22EF> 0     0                  Urban\n",
       "3 1               NA        <U+22EF> 0     0                  Urban\n",
       "4 1               NA        <U+22EF> 0     0                  Urban\n",
       "5 1               NA        <U+22EF> 0     0                  Urban\n",
       "6 1               NA        <U+22EF> 0     0                  Urban\n",
       "  vanOrUtility vehicle waterRiver weatherA weatherB lat       lon     \n",
       "1 0             0       0         Fine     Null     -43.49446 172.6652\n",
       "2 1            NA      NA         Fine     Null     -43.54742 172.6348\n",
       "3 0            NA      NA         Fine     Null     -43.49222 172.6842\n",
       "4 0            NA      NA         Fine     Null     -43.52282 172.5422\n",
       "5 0            NA      NA         Fine     Null     -43.54417 172.6108\n",
       "6 0            NA      NA         Fine     Null     -43.57761 172.6279"
      ]
     },
     "metadata": {},
     "output_type": "display_data"
    }
   ],
   "source": [
    "#Join count_all_year_df with original crash_df to return details for locations that had repeated accidents \n",
    "target_df <- inner_join(crash_df, count_all_year_df %>% \n",
    "                select(-3), by = c('crashLocation1', 'crashLocation2')) %>%\n",
    "                filter(crashSeverity == \"Serious Crash\" | crashSeverity == \"Fatal Crash\" ) %>% \n",
    "                mutate(lat = get_lat_lon(X,Y)$lat, lon=get_lat_lon(X,Y)$lon)\n",
    "                    \n",
    "target_df %>% head()"
   ]
  },
  {
   "cell_type": "code",
   "execution_count": 7,
   "metadata": {
    "vscode": {
     "languageId": "r"
    }
   },
   "outputs": [
    {
     "data": {
      "text/html": [
       "<table class=\"dataframe\">\n",
       "<caption>A data.frame: 6 × 4</caption>\n",
       "<thead>\n",
       "\t<tr><th></th><th scope=col>name</th><th scope=col>value</th><th scope=col>count</th><th scope=col>percent</th></tr>\n",
       "\t<tr><th></th><th scope=col>&lt;chr&gt;</th><th scope=col>&lt;chr&gt;</th><th scope=col>&lt;int&gt;</th><th scope=col>&lt;dbl&gt;</th></tr>\n",
       "</thead>\n",
       "<tbody>\n",
       "\t<tr><th scope=row>1</th><td>advisorySpeed</td><td>NA</td><td>489</td><td>96</td></tr>\n",
       "\t<tr><th scope=row>2</th><td>advisorySpeed</td><td>35</td><td>  8</td><td> 2</td></tr>\n",
       "\t<tr><th scope=row>3</th><td>advisorySpeed</td><td>45</td><td>  4</td><td> 1</td></tr>\n",
       "\t<tr><th scope=row>4</th><td>advisorySpeed</td><td>65</td><td>  3</td><td> 1</td></tr>\n",
       "\t<tr><th scope=row>5</th><td>advisorySpeed</td><td>20</td><td>  1</td><td> 0</td></tr>\n",
       "\t<tr><th scope=row>6</th><td>advisorySpeed</td><td>25</td><td>  2</td><td> 0</td></tr>\n",
       "</tbody>\n",
       "</table>\n"
      ],
      "text/latex": [
       "A data.frame: 6 × 4\n",
       "\\begin{tabular}{r|llll}\n",
       "  & name & value & count & percent\\\\\n",
       "  & <chr> & <chr> & <int> & <dbl>\\\\\n",
       "\\hline\n",
       "\t1 & advisorySpeed & NA & 489 & 96\\\\\n",
       "\t2 & advisorySpeed & 35 &   8 &  2\\\\\n",
       "\t3 & advisorySpeed & 45 &   4 &  1\\\\\n",
       "\t4 & advisorySpeed & 65 &   3 &  1\\\\\n",
       "\t5 & advisorySpeed & 20 &   1 &  0\\\\\n",
       "\t6 & advisorySpeed & 25 &   2 &  0\\\\\n",
       "\\end{tabular}\n"
      ],
      "text/markdown": [
       "\n",
       "A data.frame: 6 × 4\n",
       "\n",
       "| <!--/--> | name &lt;chr&gt; | value &lt;chr&gt; | count &lt;int&gt; | percent &lt;dbl&gt; |\n",
       "|---|---|---|---|---|\n",
       "| 1 | advisorySpeed | NA | 489 | 96 |\n",
       "| 2 | advisorySpeed | 35 |   8 |  2 |\n",
       "| 3 | advisorySpeed | 45 |   4 |  1 |\n",
       "| 4 | advisorySpeed | 65 |   3 |  1 |\n",
       "| 5 | advisorySpeed | 20 |   1 |  0 |\n",
       "| 6 | advisorySpeed | 25 |   2 |  0 |\n",
       "\n"
      ],
      "text/plain": [
       "  name          value count percent\n",
       "1 advisorySpeed NA    489   96     \n",
       "2 advisorySpeed 35      8    2     \n",
       "3 advisorySpeed 45      4    1     \n",
       "4 advisorySpeed 65      3    1     \n",
       "5 advisorySpeed 20      1    0     \n",
       "6 advisorySpeed 25      2    0     "
      ]
     },
     "metadata": {},
     "output_type": "display_data"
    }
   ],
   "source": [
    "#Calculate frequency for factor columns\n",
    "col_freq_df <- target_df %>% select(-c(X,Y,OBJECTID, areaUnitID,crashFinancialYear,crashDirectionDescription,crashLocation1,crashLocation2,crashRoadSideRoad,crashSeverity,\n",
    "                                        crashYear,debris,directionRoleDescription,ditch,fatalCount,fence,houseOrBuilding,intersection,meshblockId,minorInjuryCount,\n",
    "                                        objectThrownOrDropped,otherObject,otherVehicleType,overBank,parkedVehicle,pedestrian,phoneBoxEtc,postOrPole,region,roadCharacter,\n",
    "                                        schoolBus,seriousInjuryCount,suv,taxi,tlaId,tlaName,unknownVehicleType,lat,lon))\n",
    "all_columns = list()\n",
    "for(i in 1:ncol(col_freq_df))\n",
    "{\n",
    "    df <- col_freq_df[i]\n",
    "    df\n",
    "    new_df <- df %>%\n",
    "                group_by(df[1]) %>%\n",
    "                tally() %>%\n",
    "                mutate(percent=round(100*n/sum(n))) %>%\n",
    "                arrange(desc(percent)) \n",
    "    colnames(new_df)[1] <- \"value\"  \n",
    "    colnames(new_df)[2] <- \"count\"         \n",
    "    new_df <- cbind(name = colnames(col_freq_df[i]), new_df)\n",
    "    new_df$value <- as.character(new_df$value)\n",
    "    all_columns[[i]] <- new_df\n",
    "}\n",
    "all_col_freq_df <- bind_rows(all_columns)\n",
    "all_col_freq_df %>% head()\n",
    "\n"
   ]
  },
  {
   "cell_type": "code",
   "execution_count": 8,
   "metadata": {
    "vscode": {
     "languageId": "r"
    }
   },
   "outputs": [
    {
     "name": "stderr",
     "output_type": "stream",
     "text": [
      "\u001b[1m\u001b[22m`summarise()` has grouped output by 'crashLocation1'. You can override using\n",
      "the `.groups` argument.\n"
     ]
    },
    {
     "data": {
      "text/html": [
       "<table class=\"dataframe\">\n",
       "<caption>A grouped_df: 10 × 3</caption>\n",
       "<thead>\n",
       "\t<tr><th scope=col>crashLocation1</th><th scope=col>crashLocation2</th><th scope=col>num_advsspeed</th></tr>\n",
       "\t<tr><th scope=col>&lt;chr&gt;</th><th scope=col>&lt;chr&gt;</th><th scope=col>&lt;int&gt;</th></tr>\n",
       "</thead>\n",
       "<tbody>\n",
       "\t<tr><td>GOVERNORS BAY TEDDINGTON</td><td>ALLANDALE LANE    </td><td>3</td></tr>\n",
       "\t<tr><td>CHRISTCHURCH AKAROA ROAD</td><td>CATONS CV         </td><td>2</td></tr>\n",
       "\t<tr><td>DYERS PASS ROAD         </td><td>CENTAURUS ROAD    </td><td>2</td></tr>\n",
       "\t<tr><td>DYERS PASS ROAD         </td><td>HACKTHORNE ROAD   </td><td>2</td></tr>\n",
       "\t<tr><td>DYERS PASS ROAD         </td><td>PENTRE TERRACE    </td><td>2</td></tr>\n",
       "\t<tr><td>DYERS PASS ROAD         </td><td>SUMMIT ROAD       </td><td>2</td></tr>\n",
       "\t<tr><td>EVANS PASS ROAD         </td><td>OCEAN VIEW TERRACE</td><td>2</td></tr>\n",
       "\t<tr><td>GOVERNORS BAY ROAD      </td><td>SANDY BEACH ROAD  </td><td>2</td></tr>\n",
       "\t<tr><td>MARSHS ROAD             </td><td>FOUNTAINS ROAD    </td><td>2</td></tr>\n",
       "\t<tr><td>SH 75                   </td><td>HILLTOP HOTEL     </td><td>2</td></tr>\n",
       "</tbody>\n",
       "</table>\n"
      ],
      "text/latex": [
       "A grouped\\_df: 10 × 3\n",
       "\\begin{tabular}{lll}\n",
       " crashLocation1 & crashLocation2 & num\\_advsspeed\\\\\n",
       " <chr> & <chr> & <int>\\\\\n",
       "\\hline\n",
       "\t GOVERNORS BAY TEDDINGTON & ALLANDALE LANE     & 3\\\\\n",
       "\t CHRISTCHURCH AKAROA ROAD & CATONS CV          & 2\\\\\n",
       "\t DYERS PASS ROAD          & CENTAURUS ROAD     & 2\\\\\n",
       "\t DYERS PASS ROAD          & HACKTHORNE ROAD    & 2\\\\\n",
       "\t DYERS PASS ROAD          & PENTRE TERRACE     & 2\\\\\n",
       "\t DYERS PASS ROAD          & SUMMIT ROAD        & 2\\\\\n",
       "\t EVANS PASS ROAD          & OCEAN VIEW TERRACE & 2\\\\\n",
       "\t GOVERNORS BAY ROAD       & SANDY BEACH ROAD   & 2\\\\\n",
       "\t MARSHS ROAD              & FOUNTAINS ROAD     & 2\\\\\n",
       "\t SH 75                    & HILLTOP HOTEL      & 2\\\\\n",
       "\\end{tabular}\n"
      ],
      "text/markdown": [
       "\n",
       "A grouped_df: 10 × 3\n",
       "\n",
       "| crashLocation1 &lt;chr&gt; | crashLocation2 &lt;chr&gt; | num_advsspeed &lt;int&gt; |\n",
       "|---|---|---|\n",
       "| GOVERNORS BAY TEDDINGTON | ALLANDALE LANE     | 3 |\n",
       "| CHRISTCHURCH AKAROA ROAD | CATONS CV          | 2 |\n",
       "| DYERS PASS ROAD          | CENTAURUS ROAD     | 2 |\n",
       "| DYERS PASS ROAD          | HACKTHORNE ROAD    | 2 |\n",
       "| DYERS PASS ROAD          | PENTRE TERRACE     | 2 |\n",
       "| DYERS PASS ROAD          | SUMMIT ROAD        | 2 |\n",
       "| EVANS PASS ROAD          | OCEAN VIEW TERRACE | 2 |\n",
       "| GOVERNORS BAY ROAD       | SANDY BEACH ROAD   | 2 |\n",
       "| MARSHS ROAD              | FOUNTAINS ROAD     | 2 |\n",
       "| SH 75                    | HILLTOP HOTEL      | 2 |\n",
       "\n"
      ],
      "text/plain": [
       "   crashLocation1           crashLocation2     num_advsspeed\n",
       "1  GOVERNORS BAY TEDDINGTON ALLANDALE LANE     3            \n",
       "2  CHRISTCHURCH AKAROA ROAD CATONS CV          2            \n",
       "3  DYERS PASS ROAD          CENTAURUS ROAD     2            \n",
       "4  DYERS PASS ROAD          HACKTHORNE ROAD    2            \n",
       "5  DYERS PASS ROAD          PENTRE TERRACE     2            \n",
       "6  DYERS PASS ROAD          SUMMIT ROAD        2            \n",
       "7  EVANS PASS ROAD          OCEAN VIEW TERRACE 2            \n",
       "8  GOVERNORS BAY ROAD       SANDY BEACH ROAD   2            \n",
       "9  MARSHS ROAD              FOUNTAINS ROAD     2            \n",
       "10 SH 75                    HILLTOP HOTEL      2            "
      ]
     },
     "metadata": {},
     "output_type": "display_data"
    },
    {
     "data": {
      "text/html": [
       "<table class=\"dataframe\">\n",
       "<caption>A tibble: 7 × 4</caption>\n",
       "<thead>\n",
       "\t<tr><th scope=col>crashLocation1</th><th scope=col>crashLocation2</th><th scope=col>advisorySpeed</th><th scope=col>crashSeverity</th></tr>\n",
       "\t<tr><th scope=col>&lt;chr&gt;</th><th scope=col>&lt;chr&gt;</th><th scope=col>&lt;dbl&gt;</th><th scope=col>&lt;chr&gt;</th></tr>\n",
       "</thead>\n",
       "<tbody>\n",
       "\t<tr><td>DYERS PASS ROAD</td><td>SUMMIT ROAD</td><td>NA</td><td>Fatal Crash  </td></tr>\n",
       "\t<tr><td>DYERS PASS ROAD</td><td>SUMMIT ROAD</td><td>35</td><td>Fatal Crash  </td></tr>\n",
       "\t<tr><td>DYERS PASS ROAD</td><td>SUMMIT ROAD</td><td>NA</td><td>Serious Crash</td></tr>\n",
       "\t<tr><td>DYERS PASS ROAD</td><td>SUMMIT ROAD</td><td>NA</td><td>Serious Crash</td></tr>\n",
       "\t<tr><td>DYERS PASS ROAD</td><td>SUMMIT ROAD</td><td>NA</td><td>Fatal Crash  </td></tr>\n",
       "\t<tr><td>DYERS PASS ROAD</td><td>SUMMIT ROAD</td><td>NA</td><td>Serious Crash</td></tr>\n",
       "\t<tr><td>DYERS PASS ROAD</td><td>SUMMIT ROAD</td><td>NA</td><td>Fatal Crash  </td></tr>\n",
       "</tbody>\n",
       "</table>\n"
      ],
      "text/latex": [
       "A tibble: 7 × 4\n",
       "\\begin{tabular}{llll}\n",
       " crashLocation1 & crashLocation2 & advisorySpeed & crashSeverity\\\\\n",
       " <chr> & <chr> & <dbl> & <chr>\\\\\n",
       "\\hline\n",
       "\t DYERS PASS ROAD & SUMMIT ROAD & NA & Fatal Crash  \\\\\n",
       "\t DYERS PASS ROAD & SUMMIT ROAD & 35 & Fatal Crash  \\\\\n",
       "\t DYERS PASS ROAD & SUMMIT ROAD & NA & Serious Crash\\\\\n",
       "\t DYERS PASS ROAD & SUMMIT ROAD & NA & Serious Crash\\\\\n",
       "\t DYERS PASS ROAD & SUMMIT ROAD & NA & Fatal Crash  \\\\\n",
       "\t DYERS PASS ROAD & SUMMIT ROAD & NA & Serious Crash\\\\\n",
       "\t DYERS PASS ROAD & SUMMIT ROAD & NA & Fatal Crash  \\\\\n",
       "\\end{tabular}\n"
      ],
      "text/markdown": [
       "\n",
       "A tibble: 7 × 4\n",
       "\n",
       "| crashLocation1 &lt;chr&gt; | crashLocation2 &lt;chr&gt; | advisorySpeed &lt;dbl&gt; | crashSeverity &lt;chr&gt; |\n",
       "|---|---|---|---|\n",
       "| DYERS PASS ROAD | SUMMIT ROAD | NA | Fatal Crash   |\n",
       "| DYERS PASS ROAD | SUMMIT ROAD | 35 | Fatal Crash   |\n",
       "| DYERS PASS ROAD | SUMMIT ROAD | NA | Serious Crash |\n",
       "| DYERS PASS ROAD | SUMMIT ROAD | NA | Serious Crash |\n",
       "| DYERS PASS ROAD | SUMMIT ROAD | NA | Fatal Crash   |\n",
       "| DYERS PASS ROAD | SUMMIT ROAD | NA | Serious Crash |\n",
       "| DYERS PASS ROAD | SUMMIT ROAD | NA | Fatal Crash   |\n",
       "\n"
      ],
      "text/plain": [
       "  crashLocation1  crashLocation2 advisorySpeed crashSeverity\n",
       "1 DYERS PASS ROAD SUMMIT ROAD    NA            Fatal Crash  \n",
       "2 DYERS PASS ROAD SUMMIT ROAD    35            Fatal Crash  \n",
       "3 DYERS PASS ROAD SUMMIT ROAD    NA            Serious Crash\n",
       "4 DYERS PASS ROAD SUMMIT ROAD    NA            Serious Crash\n",
       "5 DYERS PASS ROAD SUMMIT ROAD    NA            Fatal Crash  \n",
       "6 DYERS PASS ROAD SUMMIT ROAD    NA            Serious Crash\n",
       "7 DYERS PASS ROAD SUMMIT ROAD    NA            Fatal Crash  "
      ]
     },
     "metadata": {},
     "output_type": "display_data"
    },
    {
     "name": "stderr",
     "output_type": "stream",
     "text": [
      "\u001b[1m\u001b[22m`summarise()` has grouped output by 'crashLocation1'. You can override using\n",
      "the `.groups` argument.\n"
     ]
    },
    {
     "data": {
      "text/html": [
       "<table class=\"dataframe\">\n",
       "<caption>A grouped_df: 10 × 3</caption>\n",
       "<thead>\n",
       "\t<tr><th scope=col>crashLocation1</th><th scope=col>crashLocation2</th><th scope=col>num_weather</th></tr>\n",
       "\t<tr><th scope=col>&lt;chr&gt;</th><th scope=col>&lt;chr&gt;</th><th scope=col>&lt;int&gt;</th></tr>\n",
       "</thead>\n",
       "<tbody>\n",
       "\t<tr><td>DYERS PASS ROAD</td><td>SUMMIT ROAD      </td><td>3</td></tr>\n",
       "\t<tr><td>FERRY ROAD     </td><td>FITZGERALD AVENUE</td><td>3</td></tr>\n",
       "\t<tr><td>SH 74          </td><td>MARSHLAND ROAD   </td><td>3</td></tr>\n",
       "\t<tr><td>SH 74          </td><td>RADCLIFFE ROAD   </td><td>3</td></tr>\n",
       "\t<tr><td>ALDWINS ROAD   </td><td>LINWOOD AVENUE   </td><td>2</td></tr>\n",
       "\t<tr><td>AVONSIDE DRIVE </td><td>TRENT ST         </td><td>2</td></tr>\n",
       "\t<tr><td>AWATEA ROAD    </td><td>SPRINGS ROAD     </td><td>2</td></tr>\n",
       "\t<tr><td>BARBADOES ST   </td><td>COVENTRY ST      </td><td>2</td></tr>\n",
       "\t<tr><td>BLENHEIM ROAD  </td><td>WHARENUI ROAD    </td><td>2</td></tr>\n",
       "\t<tr><td>COLOMBO ST     </td><td>TUAM ST          </td><td>2</td></tr>\n",
       "</tbody>\n",
       "</table>\n"
      ],
      "text/latex": [
       "A grouped\\_df: 10 × 3\n",
       "\\begin{tabular}{lll}\n",
       " crashLocation1 & crashLocation2 & num\\_weather\\\\\n",
       " <chr> & <chr> & <int>\\\\\n",
       "\\hline\n",
       "\t DYERS PASS ROAD & SUMMIT ROAD       & 3\\\\\n",
       "\t FERRY ROAD      & FITZGERALD AVENUE & 3\\\\\n",
       "\t SH 74           & MARSHLAND ROAD    & 3\\\\\n",
       "\t SH 74           & RADCLIFFE ROAD    & 3\\\\\n",
       "\t ALDWINS ROAD    & LINWOOD AVENUE    & 2\\\\\n",
       "\t AVONSIDE DRIVE  & TRENT ST          & 2\\\\\n",
       "\t AWATEA ROAD     & SPRINGS ROAD      & 2\\\\\n",
       "\t BARBADOES ST    & COVENTRY ST       & 2\\\\\n",
       "\t BLENHEIM ROAD   & WHARENUI ROAD     & 2\\\\\n",
       "\t COLOMBO ST      & TUAM ST           & 2\\\\\n",
       "\\end{tabular}\n"
      ],
      "text/markdown": [
       "\n",
       "A grouped_df: 10 × 3\n",
       "\n",
       "| crashLocation1 &lt;chr&gt; | crashLocation2 &lt;chr&gt; | num_weather &lt;int&gt; |\n",
       "|---|---|---|\n",
       "| DYERS PASS ROAD | SUMMIT ROAD       | 3 |\n",
       "| FERRY ROAD      | FITZGERALD AVENUE | 3 |\n",
       "| SH 74           | MARSHLAND ROAD    | 3 |\n",
       "| SH 74           | RADCLIFFE ROAD    | 3 |\n",
       "| ALDWINS ROAD    | LINWOOD AVENUE    | 2 |\n",
       "| AVONSIDE DRIVE  | TRENT ST          | 2 |\n",
       "| AWATEA ROAD     | SPRINGS ROAD      | 2 |\n",
       "| BARBADOES ST    | COVENTRY ST       | 2 |\n",
       "| BLENHEIM ROAD   | WHARENUI ROAD     | 2 |\n",
       "| COLOMBO ST      | TUAM ST           | 2 |\n",
       "\n"
      ],
      "text/plain": [
       "   crashLocation1  crashLocation2    num_weather\n",
       "1  DYERS PASS ROAD SUMMIT ROAD       3          \n",
       "2  FERRY ROAD      FITZGERALD AVENUE 3          \n",
       "3  SH 74           MARSHLAND ROAD    3          \n",
       "4  SH 74           RADCLIFFE ROAD    3          \n",
       "5  ALDWINS ROAD    LINWOOD AVENUE    2          \n",
       "6  AVONSIDE DRIVE  TRENT ST          2          \n",
       "7  AWATEA ROAD     SPRINGS ROAD      2          \n",
       "8  BARBADOES ST    COVENTRY ST       2          \n",
       "9  BLENHEIM ROAD   WHARENUI ROAD     2          \n",
       "10 COLOMBO ST      TUAM ST           2          "
      ]
     },
     "metadata": {},
     "output_type": "display_data"
    },
    {
     "data": {
      "text/html": [
       "<table class=\"dataframe\">\n",
       "<caption>A tibble: 2 × 3</caption>\n",
       "<thead>\n",
       "\t<tr><th scope=col>crashLocation1</th><th scope=col>crashLocation2</th><th scope=col>weatherA</th></tr>\n",
       "\t<tr><th scope=col>&lt;chr&gt;</th><th scope=col>&lt;chr&gt;</th><th scope=col>&lt;chr&gt;</th></tr>\n",
       "</thead>\n",
       "<tbody>\n",
       "\t<tr><td>MARSHS ROAD</td><td>FOUNTAINS ROAD</td><td>Heavy rain </td></tr>\n",
       "\t<tr><td>MARSHS ROAD</td><td>FOUNTAINS ROAD</td><td>Mist or Fog</td></tr>\n",
       "</tbody>\n",
       "</table>\n"
      ],
      "text/latex": [
       "A tibble: 2 × 3\n",
       "\\begin{tabular}{lll}\n",
       " crashLocation1 & crashLocation2 & weatherA\\\\\n",
       " <chr> & <chr> & <chr>\\\\\n",
       "\\hline\n",
       "\t MARSHS ROAD & FOUNTAINS ROAD & Heavy rain \\\\\n",
       "\t MARSHS ROAD & FOUNTAINS ROAD & Mist or Fog\\\\\n",
       "\\end{tabular}\n"
      ],
      "text/markdown": [
       "\n",
       "A tibble: 2 × 3\n",
       "\n",
       "| crashLocation1 &lt;chr&gt; | crashLocation2 &lt;chr&gt; | weatherA &lt;chr&gt; |\n",
       "|---|---|---|\n",
       "| MARSHS ROAD | FOUNTAINS ROAD | Heavy rain  |\n",
       "| MARSHS ROAD | FOUNTAINS ROAD | Mist or Fog |\n",
       "\n"
      ],
      "text/plain": [
       "  crashLocation1 crashLocation2 weatherA   \n",
       "1 MARSHS ROAD    FOUNTAINS ROAD Heavy rain \n",
       "2 MARSHS ROAD    FOUNTAINS ROAD Mist or Fog"
      ]
     },
     "metadata": {},
     "output_type": "display_data"
    }
   ],
   "source": [
    "# Find number of changes to variables over 10 years. These will be the number of unique values for a specific variable for each crash location 1 and 2\n",
    "\n",
    "# Number of changes for advisory speed\n",
    "advsspeed_changes <- target_df  %>% group_by(crashLocation1,crashLocation2)  %>%  summarise(num_advsspeed = length(unique(advisorySpeed)))\n",
    "arrange(advsspeed_changes , desc(advsspeed_changes$num_advsspeed))  %>%  head(n=10)\n",
    "\n",
    "# Check manually\n",
    "\n",
    "check_df <- target_df  %>% filter(crashLocation1 == 'DYERS PASS ROAD' & crashLocation2 == 'SUMMIT ROAD')  %>%  select(crashLocation1,crashLocation2,advisorySpeed,crashSeverity)\n",
    "check_df\n",
    "\n",
    "# Number of changes for weatherA\n",
    "weather_changes <- target_df  %>% group_by(crashLocation1,crashLocation2)  %>%  summarise(num_weather = length(unique(weatherA)))\n",
    "arrange(weather_changes , desc(weather_changes$num_weather))  %>%  head(n=10)\n",
    "\n",
    "# Check manually\n",
    "\n",
    "check_df2 <- target_df  %>% filter(crashLocation1 == 'MARSHS ROAD' & crashLocation2 == 'FOUNTAINS ROAD')  %>%  select(crashLocation1,crashLocation2,weatherA)\n",
    "check_df2"
   ]
  },
  {
   "cell_type": "code",
   "execution_count": 15,
   "metadata": {
    "vscode": {
     "languageId": "r"
    }
   },
   "outputs": [
    {
     "data": {
      "text/html": [
       "<table class=\"dataframe\">\n",
       "<caption>A data.frame: 6 × 4</caption>\n",
       "<thead>\n",
       "\t<tr><th></th><th scope=col>lat</th><th scope=col>lon</th><th scope=col>trafficControl</th><th scope=col>crashYear</th></tr>\n",
       "\t<tr><th></th><th scope=col>&lt;dbl&gt;</th><th scope=col>&lt;dbl&gt;</th><th scope=col>&lt;chr&gt;</th><th scope=col>&lt;dbl&gt;</th></tr>\n",
       "</thead>\n",
       "<tbody>\n",
       "\t<tr><th scope=row>1</th><td>-43.49446</td><td>172.6652</td><td>Give way       </td><td>2012</td></tr>\n",
       "\t<tr><th scope=row>2</th><td>-43.54742</td><td>172.6348</td><td>Unknown        </td><td>2013</td></tr>\n",
       "\t<tr><th scope=row>3</th><td>-43.49222</td><td>172.6842</td><td>Traffic Signals</td><td>2013</td></tr>\n",
       "\t<tr><th scope=row>4</th><td>-43.52282</td><td>172.5422</td><td>Give way       </td><td>2013</td></tr>\n",
       "\t<tr><th scope=row>5</th><td>-43.54417</td><td>172.6108</td><td>Give way       </td><td>2013</td></tr>\n",
       "\t<tr><th scope=row>6</th><td>-43.57761</td><td>172.6279</td><td>Nil            </td><td>2013</td></tr>\n",
       "</tbody>\n",
       "</table>\n"
      ],
      "text/latex": [
       "A data.frame: 6 × 4\n",
       "\\begin{tabular}{r|llll}\n",
       "  & lat & lon & trafficControl & crashYear\\\\\n",
       "  & <dbl> & <dbl> & <chr> & <dbl>\\\\\n",
       "\\hline\n",
       "\t1 & -43.49446 & 172.6652 & Give way        & 2012\\\\\n",
       "\t2 & -43.54742 & 172.6348 & Unknown         & 2013\\\\\n",
       "\t3 & -43.49222 & 172.6842 & Traffic Signals & 2013\\\\\n",
       "\t4 & -43.52282 & 172.5422 & Give way        & 2013\\\\\n",
       "\t5 & -43.54417 & 172.6108 & Give way        & 2013\\\\\n",
       "\t6 & -43.57761 & 172.6279 & Nil             & 2013\\\\\n",
       "\\end{tabular}\n"
      ],
      "text/markdown": [
       "\n",
       "A data.frame: 6 × 4\n",
       "\n",
       "| <!--/--> | lat &lt;dbl&gt; | lon &lt;dbl&gt; | trafficControl &lt;chr&gt; | crashYear &lt;dbl&gt; |\n",
       "|---|---|---|---|---|\n",
       "| 1 | -43.49446 | 172.6652 | Give way        | 2012 |\n",
       "| 2 | -43.54742 | 172.6348 | Unknown         | 2013 |\n",
       "| 3 | -43.49222 | 172.6842 | Traffic Signals | 2013 |\n",
       "| 4 | -43.52282 | 172.5422 | Give way        | 2013 |\n",
       "| 5 | -43.54417 | 172.6108 | Give way        | 2013 |\n",
       "| 6 | -43.57761 | 172.6279 | Nil             | 2013 |\n",
       "\n"
      ],
      "text/plain": [
       "  lat       lon      trafficControl  crashYear\n",
       "1 -43.49446 172.6652 Give way        2012     \n",
       "2 -43.54742 172.6348 Unknown         2013     \n",
       "3 -43.49222 172.6842 Traffic Signals 2013     \n",
       "4 -43.52282 172.5422 Give way        2013     \n",
       "5 -43.54417 172.6108 Give way        2013     \n",
       "6 -43.57761 172.6279 Nil             2013     "
      ]
     },
     "metadata": {},
     "output_type": "display_data"
    },
    {
     "name": "stdout",
     "output_type": "stream",
     "text": [
      "[1] \"See crash_data.html in current directory\"\n"
     ]
    }
   ],
   "source": [
    "#Plotting interactive map using leaflet\n",
    "#install.packages(\"sp\")\n",
    "#install.packages(\"htmlwidgets\")\n",
    "#install.packages(\"IRdisplay\")\n",
    "#install.packages(\"leaflet.extras2\")\n",
    "#install.packages(\"lubridate\")\n",
    "#install.packages(\"crosstalk\")\n",
    "#install.packages(\"sf\")\n",
    "library(sp)\n",
    "library(leaflet)\n",
    "library(htmlwidgets)\n",
    "library(IRdisplay)\n",
    "library(leaflet.extras2)\n",
    "library(crosstalk)\n",
    "library(sf)\n",
    "#library(lubridate)\n",
    "\n",
    "df <- as.data.frame(target_df %>%\n",
    "        select(lat,lon,trafficControl,crashYear) )\n",
    "df %>% head()\n",
    "#df <- na.omit(df)\n",
    "event_palette <- colorFactor( palette=\"RdYlBu\", domain=NULL, na.color=\"transparent\")\n",
    "\n",
    "# Prepare the text for the tooltip:\n",
    "hover_text <- paste(\n",
    "   \"TrafficControl: \", df$trafficControl, \"<br/>\",\n",
    "   \"Latitude: \", df$lat, \"<br/>\",\n",
    "   \"Longitude: \", df$lon, \"<br/>\") %>%\n",
    "  lapply(htmltools::HTML)\n",
    "\n",
    "m <- leaflet(df) %>% \n",
    "  addTiles()  %>% \n",
    "  # addTimeslider(data = df,\n",
    "  #            options = timesliderOptions(\n",
    "  #              position = \"topright\",\n",
    "  #              timeAttribute = \"crashYear\",\n",
    "  #              range = TRUE)) %>%\n",
    "  setView( lat=-43.5, lng=172.6 , zoom=10) %>%\n",
    "  addCircleMarkers(~lon, ~lat, \n",
    "    fillColor = ~event_palette(trafficControl), fillOpacity = 0.7, color=\"#af4343\", radius=8, stroke=FALSE,\n",
    "    label = hover_text,\n",
    "    clusterOptions = markerClusterOptions(),\n",
    "    labelOptions = labelOptions( style = list(\"font-weight\" = \"normal\", padding = \"3px 8px\"), textsize = \"13px\", direction = \"auto\")\n",
    "  ) %>%\n",
    "  addLegend(pal=event_palette, values=~trafficControl, opacity=0.9, title = \"trafficControl\", position = \"bottomright\" )\n",
    "saveWidget(m, 'crash_data.html', selfcontained = FALSE)\n",
    "print(\"See crash_data.html in current directory\")\n",
    "#display_html('<iframe src=\"crash_data.html\" width=1000, height=1000></iframe>')"
   ]
  },
  {
   "cell_type": "code",
   "execution_count": 32,
   "metadata": {
    "vscode": {
     "languageId": "r"
    }
   },
   "outputs": [
    {
     "name": "stderr",
     "output_type": "stream",
     "text": [
      "\n",
      "Listening on http://127.0.0.1:7710\n",
      "\n"
     ]
    }
   ],
   "source": [
    "#Plotting interactive map using leaflet\n",
    "#install.packages(\"shiny\")\n",
    "#install.packages(\"RColorBrewer\")\n",
    "#install.packages(\"sp\")\n",
    "#install.packages(\"htmlwidgets\")\n",
    "#install.packages(\"IRdisplay\")\n",
    "#install.packages(\"leaflet.extras2\")\n",
    "library(sp)\n",
    "library(leaflet)\n",
    "library(htmlwidgets)\n",
    "library(IRdisplay)\n",
    "library(leaflet.extras2)\n",
    "library(shiny)\n",
    "library(RColorBrewer)\n",
    "d <- as.data.frame(target_df %>%\n",
    "        select(lat,lon,crashLocation1, crashLocation2,crashYear,trafficControl,light,advisorySpeed,bicycle,cliffBank,flatHill,guardRail,motorcycle,NumberOfLanes,\n",
    "        roadLane,speedLimit,streetLight,trafficIsland,weatherA,weatherB))\n",
    "camera_d <- read.csv(\"https://raw.githubusercontent.com/zelta1990/STAT422-Group-Project/nzta-camera/cameras.csv\")\n",
    "ui <- bootstrapPage(\"Interactive Map\",\n",
    "                 tags$style(type = \"text/css\", \"html, body {width:100%;height:100%}\"),\n",
    "                 leafletOutput(\"m\", height=700),\n",
    "                absolutePanel( id = \"controls\",  class=\"panel panel-default\",\n",
    "                              fixed =TRUE, draggable = TRUE, top=20, left=40,\n",
    "                              right=20, bottom =20, width=310, height=100,\n",
    "                              sliderInput(\"year\",\n",
    "                                          \"Year\",\n",
    "                                          min=min(d$crashYear),\n",
    "                                          max=max(d$crashYear),\n",
    "                                          value=range(d$crashYear),\n",
    "                                          step=1, sep=\"\"),\n",
    "                              selectInput(\"layer\",\"Select a layer: \", c(\"trafficControl\",\"light\",\"advisorySpeed\",\"bicycle\",\"cliffBank\",\"flatHill\",\"guardRail\",\"motorcycle\",\"NumberOfLanes\",\n",
    "                                          \"roadLane\",\"speedLimit\",\"streetLight\",\"trafficIsland\",\"weatherA\",\"weatherB\"))\n",
    "                              ))\n",
    "server <- function(input, output, session){\n",
    "  \n",
    "  filteredData <- reactive({\n",
    "    d[d$crashYear >= input$year[1] & d$crashYear <= input$year[2],]\n",
    "  })\n",
    "  d_colour <- colorFactor( palette=\"RdYlBu\", domain=NULL, na.color=\"transparent\")\n",
    "  \n",
    "  output$m <- renderLeaflet({\n",
    "    \n",
    "    leaflet(d) %>% \n",
    "      setView( lat=-43.5, lng=172.6 , zoom=10) %>%\n",
    "      addTiles() %>% \n",
    "      addCircleMarkers(~d$lon, ~d$lat, \n",
    "        fillColor = ~d_colour(d$trafficControl), fillOpacity = 0.7, color=\"#af4343\", radius=8, stroke=FALSE,\n",
    "        popup=paste0(\"<br>trafficControl:\",d$trafficControl,\"<br>lat:\", d$lat, \"<br>lon:\", d$lon,\"<br>year:\", d$crashYear,\"<br>location1:\", d$crashLocation1,\"<br>location2:\", d$crashLocation2 ),\n",
    "        clusterOptions = markerClusterOptions(),\n",
    "        group=\"traffic control\"\n",
    "      ) %>%\n",
    "      addLegend(pal=d_colour, values=~trafficControl, opacity=0.9, title = \"trafficControl\", position = \"bottomright\")\n",
    "    })\n",
    "  \n",
    "  d_colour <-colorFactor( palette=\"RdYlBu\", domain=NULL, na.color=\"transparent\")\n",
    "  observe({\n",
    "   \n",
    "    filtered = filteredData\n",
    "    leafletProxy(\"m\", data=filteredData()) %>% \n",
    "      clearControls() %>%\n",
    "      clearMarkerClusters()%>%\n",
    "      addCircleMarkers(~lon, ~lat, \n",
    "        fillColor = ~d_colour(filteredData()[,input$layer]), fillOpacity = 0.7, color=\"#af4343\", radius=8, stroke=FALSE,\n",
    "        popup=~paste0(\"<br>\",input$layer,\":\",filteredData()[,input$layer],\"<br>lat:\", lat, \"<br>lon:\", lon,\"<br>year:\", crashYear ),\n",
    "        clusterOptions = markerClusterOptions(),\n",
    "        group=input$layer\n",
    "       ) %>%\n",
    "       addLegend(pal=d_colour, values=filteredData()[,input$layer], opacity=0.9, title = input$layer, position = \"bottomright\")#%>%\n",
    "  } )\n",
    "}\n",
    "\n",
    "shinyApp(ui, server) "
   ]
  },
  {
   "cell_type": "markdown",
   "metadata": {},
   "source": []
  }
 ],
 "metadata": {
  "kernelspec": {
   "display_name": "R",
   "language": "R",
   "name": "ir"
  },
  "language_info": {
   "codemirror_mode": "r",
   "file_extension": ".r",
   "mimetype": "text/x-r-source",
   "name": "R",
   "pygments_lexer": "r",
   "version": "4.2.1"
  },
  "orig_nbformat": 4,
  "vscode": {
   "interpreter": {
    "hash": "aee8b7b246df8f9039afb4144a1f6fd8d2ca17a180786b69acc140d282b71a49"
   }
  }
 },
 "nbformat": 4,
 "nbformat_minor": 2
}
